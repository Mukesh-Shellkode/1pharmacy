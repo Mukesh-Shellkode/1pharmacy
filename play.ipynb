{
 "cells": [
  {
   "cell_type": "code",
   "execution_count": 14,
   "metadata": {},
   "outputs": [],
   "source": [
    "from langchain_community.document_loaders import DirectoryLoader\n",
    "\n",
    "loader = DirectoryLoader(r'C:\\Users\\Lenovo\\Desktop\\1pharmacy\\docs')"
   ]
  },
  {
   "cell_type": "code",
   "execution_count": 15,
   "metadata": {},
   "outputs": [],
   "source": [
    "docs = loader.load()"
   ]
  },
  {
   "cell_type": "code",
   "execution_count": 16,
   "metadata": {},
   "outputs": [
    {
     "data": {
      "text/plain": [
       "13"
      ]
     },
     "execution_count": 16,
     "metadata": {},
     "output_type": "execute_result"
    }
   ],
   "source": [
    "len(docs)"
   ]
  },
  {
   "cell_type": "code",
   "execution_count": 17,
   "metadata": {},
   "outputs": [
    {
     "data": {
      "text/plain": [
       "[Document(page_content='BASIC BILL ENTRY\\n\\nVideo Link :\\n\\nhttps://drive.google.com/file/d/1-9Hq55iRbH19L1 LzvvI5oHXoGIU_i1yV/view?usp=drive_link\\n\\n00:00 Click on sales.\\n\\n00:03 Click on bill entry.\\n\\n00:07 Click here to add items.\\n\\n00:13 Select the preferred items and also there\\n\\n00:15 is an option for the substitute items.\\n\\n00:26 Choose the patient name.\\n\\n00:30 Choose the doctor.\\n\\n00:33 Click on submit.\\n\\n00:34 To create a bill, the bill is created.\\n\\n00:38 You can print and also send the bill through WhatsApp.', metadata={'source': 'C:\\\\Users\\\\Lenovo\\\\Desktop\\\\1pharmacy\\\\docs\\\\Basic Bill Entry.pdf'}),\n",
       " Document(page_content='BILL HISTORY\\n\\nVideo Link :\\n\\nhttps://drive.google.com/file/d/1QH5XFu_m7ob_wWx 8SRMn_yiRPlff1MuH/view?usp=drive_link\\n\\nStep-1 : Click on sales.\\n\\nStep-2 : Click on Bill history.\\n\\nStep-3 : click here to view Bill history based on the filter.\\n\\nStep-4 : select the appropriate filter.\\n\\nStep-5 : click here to view bills based on payment type filter\\n\\nStep-6 : select the appropriate payment filter.\\n\\nStep-7 : Click here to select the date range.\\n\\nStep-8 : Select the preferred date range.\\n\\nStep-9 : Click here, There are actions like Delete, prescription image and WhatsApp feature.\\n\\nStep-10 : To download the report, click on download report.', metadata={'source': 'C:\\\\Users\\\\Lenovo\\\\Desktop\\\\1pharmacy\\\\docs\\\\Bill History.pdf'}),\n",
       " Document(page_content='Bill With Various Payment Modes\\n\\nVideo Link :\\n\\nhttps://drive.google.com/file/d/1D-_uu7MX-rIzpHz71 pwr9FCyHwbA04KR/view?usp=drive_link\\n\\n00:00 Click here to search items.\\n\\n00:05 Choose the preferred items that you want to\\n\\n00:07 bill and fill all the necessary fields accordingly.\\n\\n00:14 Select the suitable patient contact.\\n\\n00:17 Click on the payment type.\\n\\n00:20 These are the various payment options here.\\n\\n00:23 I have selected the pending payment type.\\n\\n00:26 Click on submit.\\n\\n00:29 The sales bill will be created successfully.\\n\\n00:33 Click on the bill history to\\n\\n00:34 view the details of the bill.\\n\\n00:36 As we had selected the pending payment type,\\n\\n00:39 the payment mode is showing as pending.\\n\\n00:42 In the bill history screen, you\\n\\n00:43 can change the payment mode.\\n\\n00:46 These are the various payment\\n\\n00:47 options I will be choosing.\\n\\n00:49 The split payment type.\\n\\n00:53 Click on payment.\\n\\n00:56 Select the payment type and\\n\\n00:58 amount for the split payment.\\n\\n01:01 Select the secondary payment option.\\n\\n01:04 The remaining balance will be automatically filled.\\n\\n01:09 Click on save.\\n\\n01:11 The bill gets saved and the payment will be\\n\\n01:13 marked as received and the payment mode will be\\n\\n01:16 changed from pending state to split payment.\\n\\n01:19 There is another payment mode\\n\\n01:21 called as partial payment.\\n\\n01:23 The payment includes a partial amount already\\n\\n01:26 paid, with the remaining balance still outstanding.\\n\\n01:32 If you want to get the information about\\n\\n01:34 the payment transaction, click on the suitable bill.\\n\\n01:38 Click on more details.\\n\\n01:40 Click on the patient name.\\n\\n01:43 Click on ledger where you can view\\n\\n01:44 the transaction of all the payments.\\n\\n01:47 The third bill is the bill generated transaction\\n\\n01:50 and the first two bills are the payment\\n\\n01:52 transactions done using split payment method.', metadata={'source': 'C:\\\\Users\\\\Lenovo\\\\Desktop\\\\1pharmacy\\\\docs\\\\Bill With Various Payment Modes.pdf'}),\n",
       " Document(page_content='GSTR PURCHASE REPORT\\n\\nVideo link :\\n\\nhttps://drive.google.com/file/d/1AqgxD2pCEIumqTq jfLMuEFxdF24i34wk/view?usp=drive_link\\n\\nStep-1 Click on Reports.\\n\\nStep-2 Click on GSTR Purchase report.\\n\\nStep-3 Select the suitable Report type.\\n\\nStep-4 Select the preferred template.\\n\\nStep-5 Select the suitable columns.\\n\\nStep-6 Select the suitable month.\\n\\nStep-7 Click on Generate Report.\\n\\nStep-8 The Report will be in the pending state.\\n\\nStep-9 The Reported will be generated and you can download the report.', metadata={'source': 'C:\\\\Users\\\\Lenovo\\\\Desktop\\\\1pharmacy\\\\docs\\\\GSTR Purchase Report.pdf'}),\n",
       " Document(page_content='GSTR SALES REPORTS\\n\\nVideo Link :\\n\\nhttps://drive.google.com/file/d/12K0ckR0U70BTp- hJQ0JyOsoCKVprU4Y6/view?usp=drive_link\\n\\nStep-1 Click on Reports.\\n\\nStep-2 Click on GSTR Sales report.\\n\\nStep-3 Select the suitable Report type.\\n\\nStep-4 Select the preferred template.\\n\\nStep-5 Select the suitable columns.\\n\\nStep-6 Select the suitable month.\\n\\nStep-7 Click on Generate Report.\\n\\nStep-8 The Report will be in the pending state.\\n\\nStep-9 Refresh after 10 seconds and the report will be generated and you can download the report.', metadata={'source': 'C:\\\\Users\\\\Lenovo\\\\Desktop\\\\1pharmacy\\\\docs\\\\GSTR Sales Report.pdf'}),\n",
       " Document(page_content='GSTR-1 REPORT\\n\\nVideo Link :\\n\\nhttps://drive.google.com/file/d/1NQs8M4_14PayPzc KJje7EPEQfp3J_Fu4/view?usp=drive_link\\n\\nStep 1- Click on reports.\\n\\nStep 2- Click on GSTR 1 report.\\n\\nStep 3- Select the preferred date range.\\n\\nStep 4- Click on generate report.\\n\\nStep 5- The report will be in pending state.\\n\\nStep 6- Download the report.', metadata={'source': 'C:\\\\Users\\\\Lenovo\\\\Desktop\\\\1pharmacy\\\\docs\\\\GSTR-1 Report.pdf'}),\n",
       " Document(page_content='PURCHASE ENTRY\\n\\nVideo Link :\\n\\nhttps://drive.google.com/file/d/1mA9MVsEBCjzCQz H4E2T3akE_7JzrIwi0/view?usp=drive_link\\n\\nStep-1 : Click on purchase\\n\\nStep-2 : click on purchase entry.\\n\\nStep-3 : Select the suitable supplier,\\n\\nStep-4 : select the invoice which needs to be uploaded.\\n\\nStep-5 : Browse or drag files for uploading.\\n\\nStep-6 : The files will be ready for the upload.\\n\\nStep-7 : Click on upload.\\n\\nStep-8 :The invoice is uploaded and please note that currently we are supporting only CSVs PDF and Images of the invoice.\\n\\nStep-9 : Please select the suitable payment type.\\n\\nStep-10 : Make sure all necessary fields like invoice number, invoice date and all the other fields are filled properly.\\n\\nStep-11 : If any change is needed, it can be edited.\\n\\nStep-12 :Click on submit now.\\n\\nStep-13 :The purchase bill has been created successfully.', metadata={'source': 'C:\\\\Users\\\\Lenovo\\\\Desktop\\\\1pharmacy\\\\docs\\\\Purchase Entry.pdf'}),\n",
       " Document(page_content='PURCHASE RETURN ( ITEM WISE )\\n\\nVideo Link :\\n\\nhttps://drive.google.com/file/d/1em72EnhEXJASCBR vrvAvmZQzPSnY2nRT/view?usp=drive_link\\n\\nStep-1 : Click on purchase\\n\\nStep-2 : click on purchase return.\\n\\nStep-3 : click on item wise return.\\n\\nStep-4 : Search for the preferred item.\\n\\nStep-5 : Make sure that all fields are filled properly.\\n\\nStep-8 : Click on submit, The purchase return will be completed.', metadata={'source': 'C:\\\\Users\\\\Lenovo\\\\Desktop\\\\1pharmacy\\\\docs\\\\Purchase Return ( Item Wise ).pdf'}),\n",
       " Document(page_content='PURCHASE RETURN ( SUPPLIER WISE )\\n\\nVideo link :\\n\\nhttps://drive.google.com/file/d/1fDPF3rWZZb8Xk SG-E1vIyWyf7vgmI2ZV/view?usp=drive_link\\n\\nStep-1 : Click on purchase\\n\\nStep-2 click on purchase return.\\n\\nStep-3 : Search for the required item.\\n\\nStep-4 : Select the preferred item.\\n\\nStep-5 : While filling please make sure that all fields are accurate.\\n\\nStep-8 : Enter the purchase Invoice number\\n\\nStep-10 : select the supplier\\n\\nStep-11 : click on Payment type\\n\\nStep-12 : select the appropriate payment type\\n\\nStep-13 : click on submit button.\\n\\nStep-14 : Bill has been created successfully.', metadata={'source': 'C:\\\\Users\\\\Lenovo\\\\Desktop\\\\1pharmacy\\\\docs\\\\Purchase Return ( Supplier Wise ).pdf'}),\n",
       " Document(page_content='PURCHASE RETURN HISTORY\\n\\nVideo Link :\\n\\nhttps://drive.google.com/file/d/1d-R4ooStac3kVU GrbKD8sncxE7bse5ZT/view?usp=drive_link\\n\\n00:00 Click on purchase.\\n\\n00:01 Click on purchase return history.\\n\\n00:05 Select the suitable date range.\\n\\n00:08 Click on return to view the return history screen.\\n\\n00:12 Click on draft to view the draft screen.\\n\\n00:17 By clicking on actions, you can change the payment\\n\\n00:19 mode and also can delete the preferred bill.\\n\\n00:23 Choose the suitable payment mode.\\n\\n00:28 Click here to download the\\n\\n00:29 purchase Return History report.', metadata={'source': 'C:\\\\Users\\\\Lenovo\\\\Desktop\\\\1pharmacy\\\\docs\\\\Purchase Return History.pdf'}),\n",
       " Document(page_content='Report Customization\\n\\nReport Customization Link :\\n\\nhttps://coda.io/d/_dIRqv-rr74N/Report-Custo mization_su-Ue\\n\\nRequirements\\n\\n1. Column Customization → Provide retailer an option to select what all columns data\\n\\nthey need for a particular report out of all the relevant columns available\\n\\n2. Group By option → Provide retailer an option to select by what columns data they\\n\\nwant to group data for a particular report\\n\\n3. Write async api for all the reports, store s3 link (items listing data stored in s3) and\\n\\ngenerated excel link\\n\\nand share it in listing api (listing of all past generated reports)\\n\\nExample - https://app.pharmacyone.io/reports/5f449c04470b7736b4d85f7949d074c6cfe1aadd.xlsx\\n\\n1. GSTR-Sales → Currently we have this report only for sales bill not for sales return and\\n\\nB2B sales and B2B return\\n\\n2. Batchwise Stock Report - Currently we don’t have Item wise stock report (But with\\n\\ngroupBy Item this can be achieved)\\n\\n3. Should we keep listing of reports data or not? For some reports, listing would be useful.\\n\\nBut we should fetch data only after selection of filter\\n\\nCurrently available Reports :\\n\\nFind the list of current available reports and templates in the link :\\n\\nhttps://coda.io/d/_dIRqv-rr74N/Report-Customization_su-Ue', metadata={'source': 'C:\\\\Users\\\\Lenovo\\\\Desktop\\\\1pharmacy\\\\docs\\\\Report Customization.pdf'}),\n",
       " Document(page_content='SALES RETURN HISTORY\\n\\nVideo Link :\\n\\nhttps://drive.google.com/file/d/1EJKO0SFpiWJB7ma Lc95emwX_I6IvIF3E/view?usp=drive_link\\n\\n00:00 Click on sales.\\n\\n00:02 Click on sales return history.\\n\\n00:05 Select the preferred date range.\\n\\n00:08 Click on apply.\\n\\n00:10 This is sales return history screen.\\n\\n00:13 Click on the suitable bill to\\n\\n00:15 view the details of the bill.\\n\\n00:17 This is the details of the bill selected.\\n\\n00:20 Click on edit to edit the bill if needed.\\n\\n00:25 Click here to download the sales Return History report.', metadata={'source': 'C:\\\\Users\\\\Lenovo\\\\Desktop\\\\1pharmacy\\\\docs\\\\Sales Return History.pdf'}),\n",
       " Document(page_content='SALES RETURN\\n\\nVideo Link :\\n\\nhttps://docs.google.com/document/d/1yDzzF-aSKxo5AcaTm30UAkkC uGUo01c4BsY4hqTNB0k/edit?usp=drive_link\\n\\n00:01 Click on sales.\\n\\n00:04 Click on sales return.\\n\\n00:08 Click here to select the products.\\n\\n00:14 Select the preferred medicines and\\n\\n00:16 also fill the required columns.\\n\\n00:33 Enter the bill number.\\n\\n00:38 Choose the patient.\\n\\n00:41 Once the patient is selected, the\\n\\n00:43 contact number will be automatically filled.\\n\\n00:47 Choose the payment and click on the submit\\n\\n00:49 button to create the sales return bill.\\n\\n00:52 The sales return will be successfully completed.', metadata={'source': 'C:\\\\Users\\\\Lenovo\\\\Desktop\\\\1pharmacy\\\\docs\\\\Sales Return.pdf'})]"
      ]
     },
     "execution_count": 17,
     "metadata": {},
     "output_type": "execute_result"
    }
   ],
   "source": [
    "docs"
   ]
  },
  {
   "cell_type": "code",
   "execution_count": 18,
   "metadata": {},
   "outputs": [],
   "source": [
    "from langchain_community.vectorstores import Chroma\n",
    "from langchain_community.embeddings.huggingface import HuggingFaceEmbeddings\n",
    "\n",
    "embeddings = HuggingFaceEmbeddings(model_name=\"sentence-transformers/all-MiniLM-L6-v2\")\n",
    "db = Chroma.from_documents(docs, embeddings)"
   ]
  },
  {
   "cell_type": "code",
   "execution_count": 36,
   "metadata": {},
   "outputs": [
    {
     "name": "stdout",
     "output_type": "stream",
     "text": [
      " Here are the steps to create a sales bill in 1P ROS software:\n",
      "\n",
      "1. Click on the \"Sales\" module\n",
      "2. Select \"Sales Invoice\"\n",
      "3. Search and select the items you want to add to the invoice\n",
      "4. Fill in the required details like batch no, expiry date, quantity, etc for each item\n",
      "5. Select the customer \n",
      "6. Once the customer is selected, contact details will auto-populate\n",
      "7. Select the payment type \n",
      "8. Click on \"Submit\" to generate the sales invoice\n",
      "9. The sales invoice will be created successfully\n",
      "\n",
      "The video demonstrating the sales invoice creation process can be found here:\n",
      "\n",
      "https://docs.google.com/document/d/1yDzzF-aSKxo5AcaTm30UAkkC_uGUo01c4BsY4hqTNB0k/edit?usp=drive_link\n",
      "\n",
      "Follow the step-by-step process shown in the video to create a sales bill in 1P ROS. Let me know if you need any other clarification.\n"
     ]
    }
   ],
   "source": [
    "import boto3\n",
    "import botocore\n",
    "from langchain.chains import RetrievalQA\n",
    "from langchain.llms.bedrock import Bedrock\n",
    "from langchain.prompts import PromptTemplate\n",
    "\n",
    "config = botocore.config.Config(\n",
    "    read_timeout=900,\n",
    "    connect_timeout=900,\n",
    "    retries={\"max_attempts\": 0}\n",
    ")\n",
    "\n",
    "bedrock_client = boto3.client(\n",
    "    service_name=\"bedrock-runtime\",\n",
    "    region_name=\"us-east-1\",\n",
    "    config=config,\n",
    ")\n",
    "\n",
    "template = \"\"\"\n",
    "    You are a bot for the 1P ROS System.\n",
    "    Generate answers truthfully based only on the given context for the question\n",
    "\n",
    "    Instruction:\n",
    "    - Return the steps and the video link.\n",
    "\n",
    "{context}\n",
    "{question}\n",
    "\"\"\"\n",
    "retriever = db.as_retriever(search_type='similarity', search_kwargs={\"k\": 3})\n",
    "llm = Bedrock(model_id=\"anthropic.claude-v2:1\",client=bedrock_client,model_kwargs = {\"temperature\":1e-10,\"max_tokens_to_sample\": 20000})\n",
    "qa_prompt = PromptTemplate(template=template, input_variables=[\"context\",\"question\"])\n",
    "chain_type_kwargs = { \"prompt\": qa_prompt, \"verbose\": False }\n",
    "qa = RetrievalQA.from_chain_type(\n",
    "    llm=llm,\n",
    "    chain_type=\"stuff\",\n",
    "    retriever=retriever,\n",
    "    chain_type_kwargs=chain_type_kwargs,\n",
    "    verbose=False\n",
    ")\n",
    "question=\"How can I create a sales bill using 1P ROS software?\"\n",
    "result = qa.run(question)\n",
    "print(result)"
   ]
  },
  {
   "cell_type": "code",
   "execution_count": null,
   "metadata": {},
   "outputs": [],
   "source": []
  }
 ],
 "metadata": {
  "kernelspec": {
   "display_name": "Python 3",
   "language": "python",
   "name": "python3"
  },
  "language_info": {
   "codemirror_mode": {
    "name": "ipython",
    "version": 3
   },
   "file_extension": ".py",
   "mimetype": "text/x-python",
   "name": "python",
   "nbconvert_exporter": "python",
   "pygments_lexer": "ipython3",
   "version": "3.11.0"
  }
 },
 "nbformat": 4,
 "nbformat_minor": 2
}
